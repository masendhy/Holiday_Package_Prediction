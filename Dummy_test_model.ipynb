{
 "cells": [
  {
   "attachments": {},
   "cell_type": "markdown",
   "metadata": {},
   "source": [
    "# **DUMMY TEST MODEL**"
   ]
  },
  {
   "attachments": {},
   "cell_type": "markdown",
   "metadata": {},
   "source": [
    "### **Data Preparation**"
   ]
  },
  {
   "cell_type": "code",
   "execution_count": 69,
   "metadata": {},
   "outputs": [],
   "source": [
    "# import library\n",
    "\n",
    "import pandas as pd\n",
    "import numpy as np\n",
    "import matplotlib.pyplot as plt\n",
    "\n",
    "\n",
    "from sklearn.preprocessing import MinMaxScaler,StandardScaler\n",
    "from sklearn.ensemble import RandomForestClassifier\n",
    "from sklearn.model_selection import train_test_split\n",
    "from sklearn.metrics import accuracy_score,precision_score,recall_score,f1_score,roc_auc_score\n",
    "from imblearn.over_sampling import SMOTE\n",
    "\n",
    "\n"
   ]
  },
  {
   "cell_type": "code",
   "execution_count": 70,
   "metadata": {},
   "outputs": [
    {
     "data": {
      "text/html": [
       "<div>\n",
       "<style scoped>\n",
       "    .dataframe tbody tr th:only-of-type {\n",
       "        vertical-align: middle;\n",
       "    }\n",
       "\n",
       "    .dataframe tbody tr th {\n",
       "        vertical-align: top;\n",
       "    }\n",
       "\n",
       "    .dataframe thead th {\n",
       "        text-align: right;\n",
       "    }\n",
       "</style>\n",
       "<table border=\"1\" class=\"dataframe\">\n",
       "  <thead>\n",
       "    <tr style=\"text-align: right;\">\n",
       "      <th></th>\n",
       "      <th>CustomerID</th>\n",
       "      <th>ProdTaken</th>\n",
       "      <th>Age</th>\n",
       "      <th>TypeofContact</th>\n",
       "      <th>CityTier</th>\n",
       "      <th>DurationOfPitch</th>\n",
       "      <th>Occupation</th>\n",
       "      <th>Gender</th>\n",
       "      <th>NumberOfPersonVisiting</th>\n",
       "      <th>NumberOfFollowups</th>\n",
       "      <th>ProductPitched</th>\n",
       "      <th>PreferredPropertyStar</th>\n",
       "      <th>MaritalStatus</th>\n",
       "      <th>NumberOfTrips</th>\n",
       "      <th>Passport</th>\n",
       "      <th>PitchSatisfactionScore</th>\n",
       "      <th>OwnCar</th>\n",
       "      <th>NumberOfChildrenVisiting</th>\n",
       "      <th>Designation</th>\n",
       "      <th>MonthlyIncome</th>\n",
       "    </tr>\n",
       "  </thead>\n",
       "  <tbody>\n",
       "    <tr>\n",
       "      <th>1737</th>\n",
       "      <td>201737</td>\n",
       "      <td>0</td>\n",
       "      <td>NaN</td>\n",
       "      <td>Company Invited</td>\n",
       "      <td>1</td>\n",
       "      <td>11.0</td>\n",
       "      <td>Salaried</td>\n",
       "      <td>Male</td>\n",
       "      <td>2</td>\n",
       "      <td>1.0</td>\n",
       "      <td>Deluxe</td>\n",
       "      <td>5.0</td>\n",
       "      <td>Married</td>\n",
       "      <td>2.0</td>\n",
       "      <td>0</td>\n",
       "      <td>5</td>\n",
       "      <td>1</td>\n",
       "      <td>1.0</td>\n",
       "      <td>Manager</td>\n",
       "      <td>NaN</td>\n",
       "    </tr>\n",
       "    <tr>\n",
       "      <th>4559</th>\n",
       "      <td>204559</td>\n",
       "      <td>1</td>\n",
       "      <td>30.0</td>\n",
       "      <td>Self Enquiry</td>\n",
       "      <td>3</td>\n",
       "      <td>7.0</td>\n",
       "      <td>Small Business</td>\n",
       "      <td>Female</td>\n",
       "      <td>3</td>\n",
       "      <td>5.0</td>\n",
       "      <td>Basic</td>\n",
       "      <td>3.0</td>\n",
       "      <td>Married</td>\n",
       "      <td>8.0</td>\n",
       "      <td>1</td>\n",
       "      <td>1</td>\n",
       "      <td>1</td>\n",
       "      <td>2.0</td>\n",
       "      <td>Executive</td>\n",
       "      <td>21478.0</td>\n",
       "    </tr>\n",
       "    <tr>\n",
       "      <th>3822</th>\n",
       "      <td>203822</td>\n",
       "      <td>0</td>\n",
       "      <td>43.0</td>\n",
       "      <td>Self Enquiry</td>\n",
       "      <td>3</td>\n",
       "      <td>19.0</td>\n",
       "      <td>Small Business</td>\n",
       "      <td>Male</td>\n",
       "      <td>4</td>\n",
       "      <td>4.0</td>\n",
       "      <td>Deluxe</td>\n",
       "      <td>3.0</td>\n",
       "      <td>Married</td>\n",
       "      <td>5.0</td>\n",
       "      <td>1</td>\n",
       "      <td>1</td>\n",
       "      <td>0</td>\n",
       "      <td>1.0</td>\n",
       "      <td>Manager</td>\n",
       "      <td>23765.0</td>\n",
       "    </tr>\n",
       "  </tbody>\n",
       "</table>\n",
       "</div>"
      ],
      "text/plain": [
       "      CustomerID  ProdTaken   Age    TypeofContact  CityTier  DurationOfPitch   \n",
       "1737      201737          0   NaN  Company Invited         1             11.0  \\\n",
       "4559      204559          1  30.0     Self Enquiry         3              7.0   \n",
       "3822      203822          0  43.0     Self Enquiry         3             19.0   \n",
       "\n",
       "          Occupation  Gender  NumberOfPersonVisiting  NumberOfFollowups   \n",
       "1737        Salaried    Male                       2                1.0  \\\n",
       "4559  Small Business  Female                       3                5.0   \n",
       "3822  Small Business    Male                       4                4.0   \n",
       "\n",
       "     ProductPitched  PreferredPropertyStar MaritalStatus  NumberOfTrips   \n",
       "1737         Deluxe                    5.0       Married            2.0  \\\n",
       "4559          Basic                    3.0       Married            8.0   \n",
       "3822         Deluxe                    3.0       Married            5.0   \n",
       "\n",
       "      Passport  PitchSatisfactionScore  OwnCar  NumberOfChildrenVisiting   \n",
       "1737         0                       5       1                       1.0  \\\n",
       "4559         1                       1       1                       2.0   \n",
       "3822         1                       1       0                       1.0   \n",
       "\n",
       "     Designation  MonthlyIncome  \n",
       "1737     Manager            NaN  \n",
       "4559   Executive        21478.0  \n",
       "3822     Manager        23765.0  "
      ]
     },
     "execution_count": 70,
     "metadata": {},
     "output_type": "execute_result"
    }
   ],
   "source": [
    "# import dataset\n",
    "\n",
    "df = pd.read_csv('dataset/Travel.csv')\n",
    "df.sample(3)"
   ]
  },
  {
   "attachments": {},
   "cell_type": "markdown",
   "metadata": {},
   "source": [
    "### **Handling Missing Value**"
   ]
  },
  {
   "cell_type": "code",
   "execution_count": 71,
   "metadata": {},
   "outputs": [],
   "source": [
    "# drop missing value\n",
    "df.dropna(subset=['Age','DurationOfPitch','NumberOfFollowups', 'MonthlyIncome','TypeofContact','NumberOfChildrenVisiting','PreferredPropertyStar','NumberOfTrips'], inplace=True)"
   ]
  },
  {
   "attachments": {},
   "cell_type": "markdown",
   "metadata": {},
   "source": [
    "### **Handling Invalid Data Types**"
   ]
  },
  {
   "cell_type": "code",
   "execution_count": 72,
   "metadata": {},
   "outputs": [],
   "source": [
    "# convert column with float data types into integer\n",
    "\n",
    "df = df.astype({\"Age\":'int', \"DurationOfPitch\":'int','NumberOfFollowups':'int', 'PreferredPropertyStar':'int',\n",
    "                        \"NumberOfTrips\":'int', \"NumberOfChildrenVisiting\":'int', \"MonthlyIncome\":'int'})"
   ]
  },
  {
   "cell_type": "code",
   "execution_count": 73,
   "metadata": {},
   "outputs": [],
   "source": [
    "# handling Invalid Value\n",
    "\n",
    "df = df.replace('Fe Male','Female')"
   ]
  },
  {
   "attachments": {},
   "cell_type": "markdown",
   "metadata": {},
   "source": [
    "### **Feature Transformation**"
   ]
  },
  {
   "cell_type": "code",
   "execution_count": 74,
   "metadata": {},
   "outputs": [],
   "source": [
    "# Normalization column using MinMaxScaler\n",
    "df['MonthlyIncome'] = MinMaxScaler().fit_transform(df['MonthlyIncome'].values.reshape(len(df), 1))\n",
    "df['DurationOfPitch'] = MinMaxScaler().fit_transform(df['DurationOfPitch'].values.reshape(len(df), 1))\n",
    "\n",
    "# Standarization column using StandardScaler\n",
    "df['Age'] = StandardScaler().fit_transform(df['Age'].values.reshape(len(df), 1))"
   ]
  },
  {
   "attachments": {},
   "cell_type": "markdown",
   "metadata": {},
   "source": [
    "### **Feature Encoding**"
   ]
  },
  {
   "cell_type": "code",
   "execution_count": 75,
   "metadata": {},
   "outputs": [],
   "source": [
    "def product(x):\n",
    "    if x['ProductPitched'] == 'Basic':\n",
    "        product = 0\n",
    "    if x['ProductPitched'] == 'Standard':\n",
    "        product = 1\n",
    "    if x['ProductPitched'] == 'Deluxe':\n",
    "        product = 2\n",
    "    if x['ProductPitched'] == 'Super Deluxe':\n",
    "        product = 3\n",
    "    if x['ProductPitched'] == 'King':\n",
    "        product = 4\n",
    "    return product\n",
    "\n",
    "\n",
    "df['ProductPitched'] = df.apply(lambda x: product(x), axis=1)\n"
   ]
  },
  {
   "attachments": {},
   "cell_type": "markdown",
   "metadata": {},
   "source": [
    "### **Feature Selection**"
   ]
  },
  {
   "cell_type": "code",
   "execution_count": 76,
   "metadata": {},
   "outputs": [],
   "source": [
    "# droped unused column\n",
    "dummy = df.drop(columns=['CustomerID','Occupation','TypeofContact','MaritalStatus',\n",
    "                         'OwnCar','Designation','NumberOfChildrenVisiting',\n",
    "                         'NumberOfPersonVisiting','Gender']).copy()"
   ]
  },
  {
   "cell_type": "code",
   "execution_count": 77,
   "metadata": {},
   "outputs": [
    {
     "data": {
      "text/html": [
       "<div>\n",
       "<style scoped>\n",
       "    .dataframe tbody tr th:only-of-type {\n",
       "        vertical-align: middle;\n",
       "    }\n",
       "\n",
       "    .dataframe tbody tr th {\n",
       "        vertical-align: top;\n",
       "    }\n",
       "\n",
       "    .dataframe thead th {\n",
       "        text-align: right;\n",
       "    }\n",
       "</style>\n",
       "<table border=\"1\" class=\"dataframe\">\n",
       "  <thead>\n",
       "    <tr style=\"text-align: right;\">\n",
       "      <th></th>\n",
       "      <th>ProdTaken</th>\n",
       "      <th>Age</th>\n",
       "      <th>CityTier</th>\n",
       "      <th>DurationOfPitch</th>\n",
       "      <th>NumberOfFollowups</th>\n",
       "      <th>ProductPitched</th>\n",
       "      <th>PreferredPropertyStar</th>\n",
       "      <th>NumberOfTrips</th>\n",
       "      <th>Passport</th>\n",
       "      <th>PitchSatisfactionScore</th>\n",
       "      <th>MonthlyIncome</th>\n",
       "    </tr>\n",
       "  </thead>\n",
       "  <tbody>\n",
       "    <tr>\n",
       "      <th>3324</th>\n",
       "      <td>0</td>\n",
       "      <td>-0.461315</td>\n",
       "      <td>1</td>\n",
       "      <td>0.122951</td>\n",
       "      <td>5</td>\n",
       "      <td>0</td>\n",
       "      <td>4</td>\n",
       "      <td>3</td>\n",
       "      <td>0</td>\n",
       "      <td>5</td>\n",
       "      <td>0.209064</td>\n",
       "    </tr>\n",
       "    <tr>\n",
       "      <th>3105</th>\n",
       "      <td>0</td>\n",
       "      <td>0.737803</td>\n",
       "      <td>1</td>\n",
       "      <td>0.081967</td>\n",
       "      <td>4</td>\n",
       "      <td>2</td>\n",
       "      <td>4</td>\n",
       "      <td>6</td>\n",
       "      <td>0</td>\n",
       "      <td>3</td>\n",
       "      <td>0.229765</td>\n",
       "    </tr>\n",
       "    <tr>\n",
       "      <th>4784</th>\n",
       "      <td>0</td>\n",
       "      <td>-0.134283</td>\n",
       "      <td>3</td>\n",
       "      <td>0.155738</td>\n",
       "      <td>4</td>\n",
       "      <td>2</td>\n",
       "      <td>5</td>\n",
       "      <td>5</td>\n",
       "      <td>1</td>\n",
       "      <td>3</td>\n",
       "      <td>0.272774</td>\n",
       "    </tr>\n",
       "  </tbody>\n",
       "</table>\n",
       "</div>"
      ],
      "text/plain": [
       "      ProdTaken       Age  CityTier  DurationOfPitch  NumberOfFollowups   \n",
       "3324          0 -0.461315         1         0.122951                  5  \\\n",
       "3105          0  0.737803         1         0.081967                  4   \n",
       "4784          0 -0.134283         3         0.155738                  4   \n",
       "\n",
       "      ProductPitched  PreferredPropertyStar  NumberOfTrips  Passport   \n",
       "3324               0                      4              3         0  \\\n",
       "3105               2                      4              6         0   \n",
       "4784               2                      5              5         1   \n",
       "\n",
       "      PitchSatisfactionScore  MonthlyIncome  \n",
       "3324                       5       0.209064  \n",
       "3105                       3       0.229765  \n",
       "4784                       3       0.272774  "
      ]
     },
     "execution_count": 77,
     "metadata": {},
     "output_type": "execute_result"
    }
   ],
   "source": [
    "dummy.sample(3)"
   ]
  },
  {
   "cell_type": "code",
   "execution_count": 78,
   "metadata": {},
   "outputs": [
    {
     "name": "stdout",
     "output_type": "stream",
     "text": [
      "<class 'pandas.core.frame.DataFrame'>\n",
      "Index: 4128 entries, 0 to 4887\n",
      "Data columns (total 11 columns):\n",
      " #   Column                  Non-Null Count  Dtype  \n",
      "---  ------                  --------------  -----  \n",
      " 0   ProdTaken               4128 non-null   int64  \n",
      " 1   Age                     4128 non-null   float64\n",
      " 2   CityTier                4128 non-null   int64  \n",
      " 3   DurationOfPitch         4128 non-null   float64\n",
      " 4   NumberOfFollowups       4128 non-null   int64  \n",
      " 5   ProductPitched          4128 non-null   int64  \n",
      " 6   PreferredPropertyStar   4128 non-null   int64  \n",
      " 7   NumberOfTrips           4128 non-null   int64  \n",
      " 8   Passport                4128 non-null   int64  \n",
      " 9   PitchSatisfactionScore  4128 non-null   int64  \n",
      " 10  MonthlyIncome           4128 non-null   float64\n",
      "dtypes: float64(3), int64(8)\n",
      "memory usage: 387.0 KB\n"
     ]
    }
   ],
   "source": [
    "dummy.info()"
   ]
  },
  {
   "attachments": {},
   "cell_type": "markdown",
   "metadata": {},
   "source": [
    "# **MODELING & TESTING**"
   ]
  },
  {
   "attachments": {},
   "cell_type": "markdown",
   "metadata": {},
   "source": [
    "### **Predict Dummy Data**"
   ]
  },
  {
   "cell_type": "code",
   "execution_count": 79,
   "metadata": {},
   "outputs": [
    {
     "name": "stdout",
     "output_type": "stream",
     "text": [
      "trainset column : 2889\n",
      "testset column : 1239\n"
     ]
    }
   ],
   "source": [
    "# Split data into feature and target\n",
    "# split to trainset and testset\n",
    "\n",
    "trainset,testset = train_test_split(dummy,test_size=0.3,random_state=42)\n",
    "\n",
    "print(f'trainset column :',len(trainset))\n",
    "print(f'testset column :',len(testset))"
   ]
  },
  {
   "cell_type": "code",
   "execution_count": 80,
   "metadata": {},
   "outputs": [],
   "source": [
    "# split to feature and target\n",
    "\n",
    "x_train = trainset.drop(['ProdTaken'],axis=1)\n",
    "y_train = trainset['ProdTaken']\n",
    "x_test = testset.drop(['ProdTaken'],axis=1)\n",
    "y_test = testset['ProdTaken']"
   ]
  },
  {
   "cell_type": "code",
   "execution_count": 81,
   "metadata": {},
   "outputs": [
    {
     "name": "stdout",
     "output_type": "stream",
     "text": [
      "Number of data train before SMOTE :  2889 column\n",
      "Number Target with value 0 : 2340\n",
      "Number Target with value 1 : 549\n",
      "\n",
      "Number of data train after SMOTE :  3510 column\n",
      "Number Target with value 0 : 2340\n",
      "Number Target with value 1 : 1170\n"
     ]
    }
   ],
   "source": [
    "# SMOTE\n",
    "\n",
    "print('Number of data train before SMOTE : ', len(x_train),'column')\n",
    "print(f'Number Target with value 0 : {sum(y_train == 0)}' )\n",
    "print(f'Number Target with value 1 : {sum(y_train == 1)}\\n' )\n",
    "\n",
    "# oversampling using SMOTE\n",
    "smote = SMOTE(sampling_strategy=0.5,random_state=42)\n",
    "x_train,y_train = smote.fit_resample(x_train,y_train)\n",
    "\n",
    "print('Number of data train after SMOTE : ', len(x_train),'column')\n",
    "print(f'Number Target with value 0 : {sum(y_train == 0)}' )\n",
    "print(f'Number Target with value 1 : {sum(y_train == 1)}' )"
   ]
  },
  {
   "cell_type": "code",
   "execution_count": 82,
   "metadata": {},
   "outputs": [],
   "source": [
    "X = dummy.drop(columns=['ProdTaken']).copy()\n",
    "y = dummy['ProdTaken']\n",
    "\n",
    "X_train = x_train\n",
    "X_test = x_test"
   ]
  },
  {
   "cell_type": "code",
   "execution_count": 83,
   "metadata": {},
   "outputs": [],
   "source": [
    "# get function with precision score\n",
    "\n",
    "def eval_classification(model):\n",
    "    y_pred = model.predict(X_test)\n",
    "    \n",
    "    print('Precicion (Test Set) : %.2f' % precision_score(y_test,y_pred))"
   ]
  },
  {
   "attachments": {},
   "cell_type": "markdown",
   "metadata": {},
   "source": [
    "### **Hyperparameter Tuning**"
   ]
  },
  {
   "cell_type": "code",
   "execution_count": 84,
   "metadata": {},
   "outputs": [
    {
     "name": "stdout",
     "output_type": "stream",
     "text": [
      "Precicion (Test Set) : 0.87\n"
     ]
    }
   ],
   "source": [
    "rf_tuned = RandomForestClassifier(n_estimators=10,max_depth=28,criterion='entropy',random_state=42)\n",
    "rf_tuned.fit(X_train,y_train)\n",
    "eval_classification(rf_tuned)"
   ]
  },
  {
   "attachments": {},
   "cell_type": "markdown",
   "metadata": {},
   "source": [
    "### **Predict Dummy Data**"
   ]
  },
  {
   "cell_type": "code",
   "execution_count": 85,
   "metadata": {},
   "outputs": [
    {
     "name": "stdout",
     "output_type": "stream",
     "text": [
      "Precision: 0.96\n"
     ]
    }
   ],
   "source": [
    "y_pred = rf_tuned.predict(X)\n",
    "y_true = y\n",
    "print(\"Precision: %.2f\" % precision_score(y_true, y_pred))"
   ]
  },
  {
   "attachments": {},
   "cell_type": "markdown",
   "metadata": {},
   "source": [
    "### **Confusion Matrix**"
   ]
  },
  {
   "cell_type": "code",
   "execution_count": 86,
   "metadata": {},
   "outputs": [
    {
     "data": {
      "text/plain": [
       "Text(0.5, 1.0, 'Confusion Matrix')"
      ]
     },
     "execution_count": 86,
     "metadata": {},
     "output_type": "execute_result"
    },
    {
     "data": {
      "image/png": "[encoded data removed]",
      "text/plain": [
       "<Figure size 500x500 with 1 Axes>"
      ]
     },
     "metadata": {},
     "output_type": "display_data"
    }
   ],
   "source": [
    "from sklearn.metrics import confusion_matrix\n",
    "y_pred = rf_tuned.predict(X)\n",
    "y_true = y\n",
    "conf_matrix = confusion_matrix(y_true, y_pred)\n",
    "\n",
    "fig, ax = plt.subplots(figsize=(5, 5))\n",
    "ax.matshow(conf_matrix, cmap=plt.cm.Blues, alpha=0.3)\n",
    "for i in range(conf_matrix.shape[0]):\n",
    "    for j in range(conf_matrix.shape[1]):\n",
    "        ax.text(x=j, y=i,s=conf_matrix[i, j], va='center', ha='center', size='xx-large')\n",
    " \n",
    "plt.xlabel('Predictions', fontsize=18)\n",
    "plt.ylabel('Actuals', fontsize=18)\n",
    "plt.title('Confusion Matrix', fontsize=18)"
   ]
  }
 ],
 "metadata": {
  "kernelspec": {
   "display_name": "base",
   "language": "python",
   "name": "python3"
  },
  "language_info": {
   "codemirror_mode": {
    "name": "ipython",
    "version": 3
   },
   "file_extension": ".py",
   "mimetype": "text/x-python",
   "name": "python",
   "nbconvert_exporter": "python",
   "pygments_lexer": "ipython3",
   "version": "3.11.4"
  },
  "orig_nbformat": 4
 },
 "nbformat": 4,
 "nbformat_minor": 2
}
